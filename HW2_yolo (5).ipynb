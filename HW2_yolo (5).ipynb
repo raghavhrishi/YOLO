{
  "nbformat": 4,
  "nbformat_minor": 0,
  "metadata": {
    "colab": {
      "name": "HW2_yolo.ipynb",
      "provenance": [],
      "collapsed_sections": [],
      "toc_visible": true
    },
    "kernelspec": {
      "name": "python3",
      "display_name": "Python 3"
    },
    "accelerator": "GPU"
  },
  "cells": [
    {
      "cell_type": "markdown",
      "metadata": {
        "id": "X_81AzUzv07i"
      },
      "source": [
        "# Google Drive\n",
        "\n",
        "This first code block attaches your google drive and makes a folder structure. You only need to run this when a new VM is assigned to you. To get your code as a single python file go through the following menus File->'Download .py'.\n",
        "\n",
        "This also downloads 2 npz files for your use: labels.npz and images.npz. For those not using colab you can download manually here:\n",
        "\n",
        "https://drive.google.com/open?id=1jIKQLhTHZUE6m2mE5lRKMSqN7ZGK2Gyu\n",
        "\n",
        "https://drive.google.com/open?id=1Gth_AVG5t-4ZhH_whOaXwe0PBXNhIIK0\n",
        "\n",
        "https://drive.google.com/file/d/1tkpFDxbpP61OEic7EP4LOhUKclYJLlwr/view?usp=sharing"
      ]
    },
    {
      "cell_type": "code",
      "metadata": {
        "id": "sdTi3p-ZvNHL"
      },
      "source": [
        "# from google.colab import drive\n",
        "# drive.mount('/content/drive')"
      ],
      "execution_count": null,
      "outputs": []
    },
    {
      "cell_type": "code",
      "metadata": {
        "id": "O24ne8z-vaJA",
        "outputId": "1616ef5d-3d33-47a5-a7b8-507ad434af68",
        "colab": {
          "base_uri": "https://localhost:8080/",
          "height": 35
        }
      },
      "source": [
        "import os\n",
        "from google.colab import drive\n",
        "\n",
        "# Mount google drive\n",
        "DRIVE_MOUNT='/content/drive'\n",
        "drive.mount(DRIVE_MOUNT)\n",
        "\n",
        "\n",
        "# create folder to write data to\n",
        "CIS680_FOLDER=os.path.join(DRIVE_MOUNT, 'My Drive', 'CIS680_2019')\n",
        "HOMEWORK_FOLDER=os.path.join(CIS680_FOLDER, 'HW2')\n",
        "os.makedirs(HOMEWORK_FOLDER, exist_ok=True)\n",
        "\n",
        "# bootstrap environment into place\n",
        "from google.colab import auth\n",
        "auth.authenticate_user()\n",
        "\n",
        "from googleapiclient.discovery import build\n",
        "drive_service = build('drive', 'v3')\n",
        "\n",
        "import io\n",
        "import os\n",
        "from googleapiclient.http import MediaIoBaseDownload\n",
        "\n",
        "def download_file(fn, file_id):\n",
        "    request = drive_service.files().get_media(fileId=file_id)\n",
        "    downloaded = io.BytesIO()\n",
        "    downloader = MediaIoBaseDownload(downloaded, request)\n",
        "    done = False\n",
        "    while done is False:\n",
        "        # _ is a placeholder for a progress object that we ignore.\n",
        "        # (Our file is small, so we skip reporting progress.)\n",
        "        _, done = downloader.next_chunk()\n",
        "    \n",
        "    downloaded.seek(0)\n",
        "\n",
        "    folder = fn.split('/')\n",
        "    if len(folder) > 1:\n",
        "        os.makedirs(folder[0], exist_ok=True)\n",
        "\n",
        "    with open(fn, 'wb') as f:\n",
        "        f.write(downloaded.read())\n",
        "\n",
        "id_to_fn = {\n",
        "    '1Gth_AVG5t-4ZhH_whOaXwe0PBXNhIIK0': 'labels.npz',\n",
        "    '1jIKQLhTHZUE6m2mE5lRKMSqN7ZGK2Gyu': 'images.npz',\n",
        "    '1mm5mq7ngx5D2QHFedjucyUC3z0VDeSRj': 'test_y_labels.npz'       }\n",
        "\n",
        "# download all files into the vm\n",
        "for fid, fn in id_to_fn.items():\n",
        "    download_file(fn, fid)\n"
      ],
      "execution_count": 1,
      "outputs": [
        {
          "output_type": "stream",
          "text": [
            "Mounted at /content/drive\n"
          ],
          "name": "stdout"
        }
      ]
    },
    {
      "cell_type": "markdown",
      "metadata": {
        "id": "ZJ7XGblg2w_P"
      },
      "source": [
        "# Data Preprocessing\n",
        "\n",
        "Here you will implement a pytorch data processor that loads tha images and computes the ground truth labels as described in the PDF.\n"
      ]
    },
    {
      "cell_type": "code",
      "metadata": {
        "id": "24fZjFVT3YjD"
      },
      "source": [
        "import numpy as np\n",
        "from sklearn.model_selection import train_test_split\n",
        "\n",
        "def loadData(image_path, labels_path):\n",
        "  ## use 0.8*no_images as the training data and the remaining as test data.\n",
        "  image = np.load(\"/content/images.npz\",allow_pickle=True)['arr_0']\n",
        "  label = np.load(\"/content/labels.npz\",allow_pickle=True,encoding = \"latin1\")['arr_0']\n",
        "  train_images,test_images,train_raw_lables,test_raw_labels = train_test_split(image, label, test_size=0.20,shuffle=True)\n",
        "  return train_images, test_images, train_raw_lables, test_raw_labels\n",
        "\n",
        "def create_y_label(image, raw_label):\n",
        "  ## this function should compute the 8X8X8 label from the raw labels for the corresponding image.\n",
        "  y_label = np.zeros((8,8,8))\n",
        "  for label in raw_label:\n",
        "    x1,y1,x2,y2 = label[1:]\n",
        "    center_x = (x1+ x2) / 2 \n",
        "    center_y = (y1 + y2) / 2\n",
        "    x_index = int(center_x/16)\n",
        "    y_index = int(center_y/16)\n",
        "    offset_x = (center_x %16) / 16\n",
        "    offset_y = (center_y %16) / 16\n",
        "\n",
        "    #Finding the width and height \n",
        "    w = (x2 - x1)/128\n",
        "    h = (y2 - y1)/128\n",
        "    class_label = label[0]\n",
        "    label_one_hot =np.zeros(3)\n",
        "    label_one_hot[int(label[0])] = 1\n",
        "    \n",
        "\n",
        "    y_label[0:5,x_index,y_index] = [1,offset_x,offset_y,w,h]\n",
        "    y_label[5:,x_index,y_index] = label_one_hot\n",
        "\n",
        "  return y_label"
      ],
      "execution_count": 9,
      "outputs": []
    },
    {
      "cell_type": "code",
      "metadata": {
        "id": "whA9u0AeQ2sw"
      },
      "source": [
        "train_images, test_images, train_raw_lables, test_raw_labels = loadData('/content/images.npz', '/content/labels.npz')"
      ],
      "execution_count": null,
      "outputs": []
    },
    {
      "cell_type": "markdown",
      "metadata": {
        "id": "qWf5lWIK66QU"
      },
      "source": [
        "TEST your processed y_labels.\n",
        "\n",
        "The following test checks your create_y_labels function using the test_y_label.npz file."
      ]
    },
    {
      "cell_type": "code",
      "metadata": {
        "id": "ZVr7tgIfsTvP",
        "outputId": "3738b783-7711-4258-aa52-315e5eddbd0e",
        "colab": {
          "base_uri": "https://localhost:8080/",
          "height": 102
        }
      },
      "source": [
        "\n",
        "data = np.load(\"test_y_labels.npz\",allow_pickle=True)\n",
        "## the test data contains 5 - (image, raw_label, processed_label) that is 5 test cases \n",
        "\n",
        "img = data['image']   ## shape (5,3,128,18)\n",
        "raw_label = data['raw_label']\n",
        "true_y_label = data['y_label']  ## shape (5,8,8,8)\n",
        "\n",
        "## fill in your code to compute the your processed y_label\n",
        "y_label = np.zeros((5,8,8,8))\n",
        "\n",
        "\n",
        "for i, label in enumerate(raw_label):\n",
        "  y_label[i] = create_y_label(img[i], label)\n",
        "\n",
        "\n",
        "\n",
        "# test you processed labels\n",
        "for i in range(len(img)):\n",
        "  # print(\"Y label\",y_label[i])\n",
        "  # print(\"Y  true label\",true_y_label[i])\n",
        "  comparison = y_label[i] == true_y_label[i]\n",
        "  equal_arrays = comparison.all()\n",
        "  print('Completed TEST CASE {}: {}'.format(i+1,equal_arrays))\n"
      ],
      "execution_count": null,
      "outputs": [
        {
          "output_type": "stream",
          "text": [
            "Completed TEST CASE 1: True\n",
            "Completed TEST CASE 2: True\n",
            "Completed TEST CASE 3: True\n",
            "Completed TEST CASE 4: True\n",
            "Completed TEST CASE 5: True\n"
          ],
          "name": "stdout"
        }
      ]
    },
    {
      "cell_type": "markdown",
      "metadata": {
        "id": "fErrCGJeAg_m"
      },
      "source": [
        "Test your DATASET\n",
        "\n",
        "Test your data processing by plotting the images and the processed labels. Compare against the raw labels. "
      ]
    },
    {
      "cell_type": "markdown",
      "metadata": {
        "id": "L3lPzBlowKyc"
      },
      "source": [
        "Set up the data set for training and testing."
      ]
    },
    {
      "cell_type": "code",
      "metadata": {
        "id": "e_I98-tE9QrQ"
      },
      "source": [
        "import torch \n",
        "import matplotlib.pyplot as plt\n",
        "import matplotlib.patches as patches\n",
        "from PIL import Image"
      ],
      "execution_count": 7,
      "outputs": []
    },
    {
      "cell_type": "code",
      "metadata": {
        "id": "SJGwsG_t1A16"
      },
      "source": [
        "class YOLODataset(torch.utils.data.Dataset):\n",
        "  \n",
        "  def __init__(self, image_file, label_file, transform = None):\n",
        "    self.images = image_file\n",
        "    self.labels = label_file\n",
        "    self.transform = transform\n",
        "    \n",
        "  def __len__(self):\n",
        "    return len(self.labels)\n",
        "    \n",
        "  def __getitem__(self, index):\n",
        "    sample_image = self.images[index]\n",
        "    sample_label = self.labels[index]\n",
        "    \n",
        "    if self.transform:\n",
        "      sample_image = self.transform(sample_image)\n",
        "\n",
        "    sample_image = sample_image.transpose((2,0,1))\n",
        "    sample_image = torch.tensor(sample_image).type(torch.FloatTensor)\n",
        "    #new_label = torch.tensor(create_y_label(sample_image,sample_label))\n",
        "    #print(sample_label)\n",
        "    #sample_label = torch.tensor(convertLabel(sample_label))\n",
        "          \n",
        "    return (sample_image, sample_label)"
      ],
      "execution_count": 10,
      "outputs": []
    },
    {
      "cell_type": "markdown",
      "metadata": {
        "id": "C9XzFiiJNvov"
      },
      "source": [
        "# 7.2.1"
      ]
    },
    {
      "cell_type": "code",
      "metadata": {
        "id": "CkckSGM7O6oo",
        "outputId": "001d2341-6c8d-49f7-fab3-ffea15c28706",
        "colab": {
          "base_uri": "https://localhost:8080/",
          "height": 268
        }
      },
      "source": [
        "train_dataset = YOLODataset(train_images, train_raw_lables)\n",
        "image,new_label = train_dataset.__getitem__(87)\n",
        "images = image.type(torch.IntTensor).numpy()\n",
        "images = np.transpose(images,(1,2,0))\n",
        "fig,ax = plt.subplots(1)\n",
        "ax.imshow(images)\n",
        "for i in range(len(new_label)):\n",
        "  #For detecting Pedestrian\n",
        "  if new_label[i][0] == 0:\n",
        "    rect1 = patches.Rectangle((new_label[i][1],new_label[i][2]),(new_label[i][3]-new_label[i][1]),(new_label[i][4]-new_label[i][2]),linewidth=1,edgecolor='r',facecolor='none')\n",
        "    ax.add_patch(rect1)\n",
        "    #For detecting Traffic Light\n",
        "  if raw_label[i][0] == 1:\n",
        "    rect2 = patches.Rectangle((new_label[i][1],new_label[i][2]),(new_label[i][3]-new_label[i][1]),(new_label[i][4]-new_label[i][2]),linewidth=1,edgecolor='b',facecolor='none')\n",
        "    ax.add_patch(rect2)\n",
        "    #For detecting Car\n",
        "  if raw_label[i][0] == 2:\n",
        "    rect3 = patches.Rectangle((new_label[i][1],new_label[i][2]),(new_label[i][3]-new_label[i][1]),(new_label[i][4]-new_label[i][2]),linewidth=1,edgecolor='g',facecolor='none')\n",
        "    ax.add_patch(rect3)\n",
        "        \n",
        "plt.show()"
      ],
      "execution_count": null,
      "outputs": [
        {
          "output_type": "display_data",
          "data": {
            "image/png": "[encoded data removed]",
            "text/plain": [
              "<Figure size 432x288 with 1 Axes>"
            ]
          },
          "metadata": {
            "tags": [],
            "needs_background": "light"
          }
        }
      ]
    },
    {
      "cell_type": "markdown",
      "metadata": {
        "id": "VdyHHbpwOMga"
      },
      "source": [
        "# 7.2.2"
      ]
    },
    {
      "cell_type": "code",
      "metadata": {
        "id": "C9P2yt7SOQy7"
      },
      "source": [
        "train_dataset = YOLODataset(train_images, train_raw_lables)\n",
        "image,label = train_dataset.__getitem__(87)\n",
        "op = create_y_label(image,label)\n",
        "for i in range(8):\n",
        "  op[i] = op[i].T"
      ],
      "execution_count": null,
      "outputs": []
    },
    {
      "cell_type": "code",
      "metadata": {
        "id": "NfNqeiqjY03z",
        "outputId": "c490e2f7-8317-4aa0-a894-6c96abf55627",
        "colab": {
          "base_uri": "https://localhost:8080/",
          "height": 1000
        }
      },
      "source": [
        "from matplotlib import pyplot as plt\n",
        "from matplotlib import colors\n",
        "Title = [\"Pr(Objectness)\", \"x1\",\"x2\",\"w\",\"h\",\" P(class=pedestrian)\", \"P(class=traffic light)\", \"P(class=car)\"]\n",
        "for i in range(8):\n",
        "  fig = plt.figure(figsize=(6,6))\n",
        "  plt.pcolor(op[i],cmap='inferno',edgecolors='k', linewidths=3)\n",
        "  plt.tight_layout()\n",
        "  plt.title(Title[i], fontsize=20)\n",
        "  plt.colorbar()\n",
        "  plt.show()"
      ],
      "execution_count": null,
      "outputs": [
        {
          "output_type": "display_data",
          "data": {
            "image/png": "[encoded data removed]",
            "text/plain": [
              "<Figure size 432x432 with 2 Axes>"
            ]
          },
          "metadata": {
            "tags": [],
            "needs_background": "light"
          }
        },
        {
          "output_type": "display_data",
          "data": {
            "image/png": "[encoded data removed]",
            "text/plain": [
              "<Figure size 432x432 with 2 Axes>"
            ]
          },
          "metadata": {
            "tags": [],
            "needs_background": "light"
          }
        },
        {
          "output_type": "display_data",
          "data": {
            "image/png": "[encoded data removed]",
            "text/plain": [
              "<Figure size 432x432 with 2 Axes>"
            ]
          },
          "metadata": {
            "tags": [],
            "needs_background": "light"
          }
        },
        {
          "output_type": "display_data",
          "data": {
            "image/png": "[encoded data removed]",
            "text/plain": [
              "<Figure size 432x432 with 2 Axes>"
            ]
          },
          "metadata": {
            "tags": [],
            "needs_background": "light"
          }
        },
        {
          "output_type": "display_data",
          "data": {
            "image/png": "[encoded data removed]",
            "text/plain": [
              "<Figure size 432x432 with 2 Axes>"
            ]
          },
          "metadata": {
            "tags": [],
            "needs_background": "light"
          }
        },
        {
          "output_type": "display_data",
          "data": {
            "image/png": "[encoded data removed]",
            "text/plain": [
              "<Figure size 432x432 with 2 Axes>"
            ]
          },
          "metadata": {
            "tags": [],
            "needs_background": "light"
          }
        },
        {
          "output_type": "display_data",
          "data": {
            "image/png": "[encoded data removed]",
            "text/plain": [
              "<Figure size 432x432 with 2 Axes>"
            ]
          },
          "metadata": {
            "tags": [],
            "needs_background": "light"
          }
        },
        {
          "output_type": "display_data",
          "data": {
            "image/png": "[encoded data removed]",
            "text/plain": [
              "<Figure size 432x432 with 2 Axes>"
            ]
          },
          "metadata": {
            "tags": [],
            "needs_background": "light"
          }
        }
      ]
    },
    {
      "cell_type": "markdown",
      "metadata": {
        "id": "M0ugsu5BNlUC"
      },
      "source": [
        "# 7.2.3"
      ]
    },
    {
      "cell_type": "code",
      "metadata": {
        "id": "lpUkI4sDO0Pd",
        "outputId": "cde73339-3685-49cc-f45f-defe3dd1a501",
        "colab": {
          "base_uri": "https://localhost:8080/",
          "height": 268
        }
      },
      "source": [
        "train_dataset = YOLODataset(train_images, train_raw_lables)\n",
        "image,label = train_dataset.__getitem__(87)\n",
        "label1 = create_y_label(image,label)\n",
        "image = image.type(torch.IntTensor).numpy()\n",
        "image = np.transpose(image,(1,2,0))\n",
        "fig,ax = plt.subplots(1)\n",
        "ax.imshow(image)\n",
        "for i in range(8):\n",
        "  label1[i] = label1[i].T\n",
        "\n",
        "for i in range(8):\n",
        "  for j in range(8):\n",
        "    if label1[0][i][j]>0.5:\n",
        "      if label1[5][i][j]>0.5:\n",
        "        width = label1[3][i][j]*128\n",
        "        height = label1[4][i][j]*128\n",
        "        xcoord = label1[1][i][j]*16 + j*16 -width/2\n",
        "        ycoord = label1[2][i][j]*16 + i*16 - height/2\n",
        "        rect1 = patches.Rectangle((xcoord,ycoord),width,height,linewidth=1,edgecolor='r',facecolor='none')\n",
        "        ax.add_patch(rect1)\n",
        "      if label1[6][i][j]>0.5:\n",
        "        width = label1[3][i][j]*128\n",
        "        height = label1[4][i][j]*128\n",
        "        xcoord = label1[1][i][j]*16 + j*16 - width/2\n",
        "        ycoord = label1[2][i][j]*16 + i*16 - height/2\n",
        "        rect2 = patches.Rectangle((xcoord,ycoord),width,height,linewidth=1,edgecolor='b',facecolor='none')\n",
        "        ax.add_patch(rect2)\n",
        "      if label1[7][i][j]>0.5:\n",
        "        width = label1[3][i][j]*128\n",
        "        height = label1[4][i][j]*128\n",
        "        xcoord = label1[1][i][j]*16 + j*16 - width/2\n",
        "        ycoord = label1[2][i][j]*16 + i*16 - height/2\n",
        "        rect3 = patches.Rectangle((xcoord,ycoord),width,height,linewidth=1,edgecolor='g',facecolor='none')\n",
        "        ax.add_patch(rect3)\n",
        "        \n",
        "plt.show()"
      ],
      "execution_count": null,
      "outputs": [
        {
          "output_type": "display_data",
          "data": {
            "image/png": "[encoded data removed]",
            "text/plain": [
              "<Figure size 432x288 with 1 Axes>"
            ]
          },
          "metadata": {
            "tags": [],
            "needs_background": "light"
          }
        }
      ]
    },
    {
      "cell_type": "markdown",
      "metadata": {
        "id": "3T6uUevnBLGr"
      },
      "source": [
        "# Model Definition"
      ]
    },
    {
      "cell_type": "code",
      "metadata": {
        "id": "NbZ3ReXQBQvP"
      },
      "source": [
        "class YOLO(torch.nn.Module):\n",
        "  def __init__(self):\n",
        "    super(YOLO, self).__init__()\n",
        "    self.convolution1 = nn.Conv2d(3, 32,\n",
        "                              kernel_size=4,\n",
        "                              stride=2, padding = (1,1))\n",
        "    self.batchnorm1 = nn.BatchNorm2d(32)\n",
        "    \n",
        "    self.convolution2 = nn.Conv2d(32, 64,\n",
        "                              kernel_size=4,\n",
        "                              stride=2, padding = (1,1))\n",
        "    self.batchnorm2 = nn.BatchNorm2d(64)\n",
        "    \n",
        "    self.convolution3 = nn.Conv2d(64, 128,\n",
        "                              kernel_size=4,\n",
        "                              stride=2, padding = (1,1))\n",
        "    self.batchnorm3 = nn.BatchNorm2d(128)\n",
        "    \n",
        "    self.convolution4 = nn.Conv2d(128, 256,\n",
        "                              kernel_size=4,\n",
        "                              stride=2, padding = (1,1))\n",
        "    self.batchnorm4 = nn.BatchNorm2d(256)\n",
        "    \n",
        "    self.convolution5 = nn.Conv2d(256, 512,\n",
        "                              kernel_size=4,\n",
        "                              stride=2, padding = (1,1))\n",
        "    self.batchnorm5 = nn.BatchNorm2d(512)\n",
        "    \n",
        "    self.convolution6 = nn.Conv2d(512, 1024,\n",
        "                              kernel_size=4,\n",
        "                              stride=2, padding = (1,1))\n",
        "    self.batchnorm6 = nn.BatchNorm2d(1024)\n",
        "    \n",
        "    self.convolution7 = nn.ConvTranspose2d(1024,256,\n",
        "                              kernel_size=4,\n",
        "                              stride=2, padding = (1,1))\n",
        "    self.batchnorm7 = nn.BatchNorm2d(256)\n",
        "    \n",
        "    self.convolution8 = nn.ConvTranspose2d(256, 64,\n",
        "                              kernel_size=4,\n",
        "                              stride=2, padding = (1,1))\n",
        "    self.batchnorm8 = nn.BatchNorm2d(64)\n",
        "    \n",
        "    self.convolution9 = nn.Conv2d(64, 8,\n",
        "                              kernel_size=3,\n",
        "                              stride=1, padding = (1,1))\n",
        "      \n",
        "  def forward(self, x):\n",
        "    \n",
        "    x = F.relu(self.batchnorm1(self.convolution1(x.float())))\n",
        "    x = F.relu(self.batchnorm2(self.convolution2(x)))\n",
        "    x = F.relu(self.batchnorm3(self.convolution3(x)))\n",
        "    x = F.relu(self.batchnorm4(self.convolution4(x)))\n",
        "    x = F.relu(self.batchnorm5(self.convolution5(x)))\n",
        "    x = F.relu(self.batchnorm6(self.convolution6(x)))\n",
        "    x = F.relu(self.batchnorm7(self.convolution7(x)))\n",
        "    x = F.relu(self.batchnorm8(self.convolution8(x)))\n",
        "    x = torch.sigmoid(self.convolution9(x))\n",
        "      \n",
        "    return x\n",
        "\n"
      ],
      "execution_count": 29,
      "outputs": []
    },
    {
      "cell_type": "markdown",
      "metadata": {
        "id": "ac2gFUgpBf6S"
      },
      "source": [
        "# Training you network\n",
        "\n",
        "Start by defining the \n",
        "1. IOU\n",
        "2. appropropriate loss function.\n",
        "3. NMS - non-max suppression function\n",
        "4. Average precision function\n",
        "\n",
        "Please define additional functions as needed."
      ]
    },
    {
      "cell_type": "code",
      "metadata": {
        "id": "mSHSW3zfBqZU"
      },
      "source": [
        "def decode_box(code,objects):\n",
        "  box = torch.zeros(4)\n",
        "  x,y,w,h = code[1:5]\n",
        "  re_w=w*128\n",
        "  re_h=h*128\n",
        "  re_x=x*16\n",
        "  re_y=y*16\n",
        "  grid_x = objects[1]\n",
        "  grid_y = objects[2]\n",
        "  box[0] = grid_x *16 + re_x -re_w/2\n",
        "  box[1] = grid_y *16 + re_y -re_h/2\n",
        "  box[2] = grid_x *16 + re_x  + re_w/2\n",
        "  box[3] = grid_y *16 + re_y  + re_h/2\n",
        "  return box\n",
        "\n",
        "\n",
        "\n",
        "def IOU(bbox_1, bbox_2):\n",
        "   ## please fill in additional arguements\n",
        "   x_1up = bbox_1[0]\n",
        "   y_1up = bbox_1[1]\n",
        "   x_11 = bbox_1[2]\n",
        "   y_11 = bbox_1[3]\n",
        "   \n",
        "   x_2up = bbox_2[0]\n",
        "   y_2up = bbox_2[1]\n",
        "   x_21 = bbox_2[2]\n",
        "   y_21 = bbox_2[3]\n",
        "\n",
        "   x_up = max(x_1up,x_2up)\n",
        "   y_up = max(y_1up,y_2up)\n",
        "   x_1 = min(x_11,x_21)\n",
        "   y_1 = min(y_11,y_21)\n",
        "   \n",
        "   inter_area = max((x_1 - x_up + 1),0) * max((y_1 - y_up + 1),0)\n",
        "   area_box1 = (x_11 - x_1up + 1) * (y_11 - y_1up + 1)\n",
        "   area_box2 = (x_21 - x_2up + 1) * (y_21 - y_2up + 1)\n",
        "   union_area = area_box1 + area_box2 - inter_area \n",
        "   iou = inter_area / union_area\n",
        "   return iou\n",
        "\n",
        "def calc_confidence_score(prediction, grnd_truth,objects):\n",
        "  ## please fill in additional arguements\n",
        "  num_objects = prediction.shape[0]\n",
        "  C_true = torch.zeros(num_objects)\n",
        "  #predicted_bbox = prediction.shape[0]\n",
        "  #grnd_truth_bbox = torch.zeros(num_objects)\n",
        "  for i in range(num_objects):\n",
        "    predicted_bbox = decode_box(prediction[i,:],objects[i,:])\n",
        "    grnd_truth_bbox = decode_box(grnd_truth[i,:],objects[i,:])\n",
        "    iou = IOU(predicted_bbox,grnd_truth_bbox)\n",
        "    C_true[i] = iou\n",
        "  ## this iou is the target/ground truth box confidence score for the grid cell where there is an object\n",
        "  ## when no object is present this confidence score is 0.\n",
        "  ## use this C_true for computing the confidence loss.\n",
        "  return C_true\n",
        "\n",
        "\n",
        "\n",
        "def YoloLoss(outputs, target, lambda_coord, lambda_noobj):\n",
        "  objects = target[:,0,:,:].nonzero()\n",
        "  non_objects = (target[:,0,:,:]==0).nonzero()\n",
        "  target_objects=target[objects[:,0],:,objects[:,1],objects[:,2]]\n",
        "  predicted_objects=outputs[objects[:,0],:,objects[:,1],objects[:,2]]\n",
        "  loc1_c = torch.sum(target[:,0,:,:]*((target[:,1,:,:] - outputs[:,1,:,:])**2 + (target[:,2,:,:] - outputs[:,2,:,:])**2))\n",
        "  loc1_w = torch.sum(target[:,0,:,:]*((torch.sqrt(target[:,3,:,:]) - torch.sqrt(outputs[:,3,:,:]))**2 + (torch.sqrt(target[:,4,:,:]) - torch.sqrt(outputs[:,4,:,:]))**2)) \n",
        "  conf = calc_confidence_score(predicted_objects,target_objects,objects)\n",
        "  loss_conf_object = torch.sum((conf[:].cuda()-predicted_objects[:,0].cuda())**2) \n",
        "  loss_conf_no_object = torch.sum((0-predicted_objects[:,0])**2)\n",
        "  loss_class = torch.sum(target[:,0,:,:]*((target[:,5,:,:] - outputs[:,5,:,:])**2 + (target[:,6,:,:] - outputs[:,6,:,:])**2 + (target[:,7,:,:] - outputs[:,7,:,:])**2))\n",
        "  loss = lambda_coord*(loc1_c+loc1_w) + loss_conf_object + (lambda_noobj * loss_conf_no_object) + loss_class\n",
        "  return loss\n",
        "\n",
        "\n"
      ],
      "execution_count": 30,
      "outputs": []
    },
    {
      "cell_type": "code",
      "metadata": {
        "id": "BTSMCtSDpa7O",
        "outputId": "2aeb0c8b-af17-409d-a67e-ada2f8435420",
        "colab": {
          "base_uri": "https://localhost:8080/",
          "height": 290
        }
      },
      "source": [
        "\n",
        "import os\n",
        "from google.colab import drive\n",
        "\n",
        "# Mount google drive\n",
        "DRIVE_MOUNT='/content/drive'\n",
        "drive.mount(DRIVE_MOUNT)\n",
        "\n",
        "\n",
        "# create folder to write data to\n",
        "CIS680_FOLDER=os.path.join(DRIVE_MOUNT, 'My Drive', 'CIS680_2019')\n",
        "HOMEWORK_FOLDER=os.path.join(CIS680_FOLDER, 'HW2')\n",
        "os.makedirs(HOMEWORK_FOLDER, exist_ok=True)\n",
        "\n",
        "# bootstrap environment into place\n",
        "from google.colab import auth\n",
        "auth.authenticate_user()\n",
        "\n",
        "from googleapiclient.discovery import build\n",
        "drive_service = build('drive', 'v3')\n",
        "\n",
        "import io\n",
        "import os\n",
        "from googleapiclient.http import MediaIoBaseDownload\n",
        "\n",
        "def download_file(fn, file_id):\n",
        "    request = drive_service.files().get_media(fileId=file_id)\n",
        "    downloaded = io.BytesIO()\n",
        "    downloader = MediaIoBaseDownload(downloaded, request)\n",
        "    done = False\n",
        "    while done is False:\n",
        "        # _ is a placeholder for a progress object that we ignore.\n",
        "        # (Our file is small, so we skip reporting progress.)\n",
        "        _, done = downloader.next_chunk()\n",
        "    \n",
        "    downloaded.seek(0)\n",
        "\n",
        "    folder = fn.split('/')\n",
        "    if len(folder) > 1:\n",
        "        os.makedirs(folder[0], exist_ok=True)\n",
        "\n",
        "    with open(fn, 'wb') as f:\n",
        "        f.write(downloaded.read())\n",
        "\n",
        "id_to_fn = {\n",
        "    '1Gth_AVG5t-4ZhH_whOaXwe0PBXNhIIK0': 'labels.npz',\n",
        "    '1jIKQLhTHZUE6m2mE5lRKMSqN7ZGK2Gyu': 'images.npz',\n",
        "    '1tkpFDxbpP61OEic7EP4LOhUKclYJLlwr': 'test_y_label.npz', \n",
        "    '1wuDhxLk2QAmvio-iGVUyLWZbp8DfY8OI': 'test_yolo_loss.npz'     }\n",
        "\n",
        "# download all files into the vm\n",
        "for fid, fn in id_to_fn.items():\n",
        "    download_file(fn, fid)\n",
        "\n",
        "\n",
        "\n",
        "import numpy as np\n",
        "import pdb\n",
        "import torch\n",
        "\n",
        "#path = os.path.join(HOMEWORK_FOLDER,'test_yolo_loss.npz')\n",
        "data = np.load('test_yolo_loss.npz',allow_pickle=True)\n",
        "\n",
        "## the test data contains 10 - (predicted_ouput, target, true_loss) that is 10 test cases \n",
        "\n",
        "predicted = data['pred']   ## shape (10,1,8,8,8)\n",
        "target = data['target']   ## shape (10,1,8,8,8)\n",
        "true_loss = data['loss']  ## shape (10,)\n",
        "\n",
        "for i  in range(len(predicted)):\n",
        "  computed_loss = YoloLoss(torch.from_numpy(predicted[i,:,:,:,:]), torch.from_numpy(target[i,:,:,:,:]), 5, 0.5)\n",
        "  print('TEST CASE {}: Computed Loss - {} Loss - {}'.format(i+1,computed_loss, true_loss[i]))\n",
        "\n",
        "\n",
        "\n",
        "\n"
      ],
      "execution_count": 31,
      "outputs": [
        {
          "output_type": "stream",
          "text": [
            "Drive already mounted at /content/drive; to attempt to forcibly remount, call drive.mount(\"/content/drive\", force_remount=True).\n"
          ],
          "name": "stdout"
        },
        {
          "output_type": "stream",
          "text": [
            "/usr/local/lib/python3.6/dist-packages/ipykernel_launcher.py:71: UserWarning: This overload of nonzero is deprecated:\n",
            "\tnonzero()\n",
            "Consider using one of the following signatures instead:\n",
            "\tnonzero(*, bool as_tuple) (Triggered internally at  /pytorch/torch/csrc/utils/python_arg_parser.cpp:766.)\n"
          ],
          "name": "stderr"
        },
        {
          "output_type": "stream",
          "text": [
            "TEST CASE 1: Computed Loss - 8.638099670410156 Loss - 8.570581859398414\n",
            "TEST CASE 2: Computed Loss - 6.854546546936035 Loss - 6.800624567771324\n",
            "TEST CASE 3: Computed Loss - 9.870726585388184 Loss - 9.830386627684668\n",
            "TEST CASE 4: Computed Loss - 8.135767936706543 Loss - 8.104469495911465\n",
            "TEST CASE 5: Computed Loss - 9.580194473266602 Loss - 9.56554696444006\n",
            "TEST CASE 6: Computed Loss - 5.269013404846191 Loss - 5.181439780422893\n",
            "TEST CASE 7: Computed Loss - 1.6634485721588135 Loss - 1.6365162407967868\n",
            "TEST CASE 8: Computed Loss - 7.263216018676758 Loss - 7.215272422683144\n",
            "TEST CASE 9: Computed Loss - 5.722009658813477 Loss - 5.683797272216336\n",
            "TEST CASE 10: Computed Loss - 8.79401969909668 Loss - 8.74894558115439\n"
          ],
          "name": "stdout"
        }
      ]
    },
    {
      "cell_type": "markdown",
      "metadata": {
        "id": "aMwZGu_rDQwC"
      },
      "source": [
        "**Train your network **\n",
        "\n",
        "We suggest that you save checkpoints sand reload from the most recent. This is due time constraints within Colab\n"
      ]
    },
    {
      "cell_type": "code",
      "metadata": {
        "id": "HjPTlPECH7S0"
      },
      "source": [
        "import torch, torchvision\n",
        "import tqdm\n",
        "import torch.nn as nn\n",
        "import torch.nn.functional as F\n",
        "from torchvision import transforms, utils\n",
        "import torch.optim as optim"
      ],
      "execution_count": 32,
      "outputs": []
    },
    {
      "cell_type": "code",
      "metadata": {
        "id": "FGozjqioDhb5"
      },
      "source": [
        "\n",
        "class YOLODataset(torch.utils.data.Dataset):\n",
        "  \n",
        "  def __init__(self, image_file, label_file, transform = None):\n",
        "    self.images = image_file\n",
        "    self.labels = label_file\n",
        "    self.transform = self.transform = transforms.Compose([\n",
        "        transforms.ToTensor(),\n",
        "        transforms.Normalize((0.5, 0.5, 0.5), (0.5, 0.5, 0.5))])\n",
        "    \n",
        "  def __len__(self):\n",
        "    return len(self.labels)\n",
        "    \n",
        "  def __getitem__(self, index):\n",
        "    new_image = self.images[index]\n",
        "    new_label = self.labels[index]\n",
        "    \n",
        "    if self.transform:\n",
        "      new_image = self.transform(new_image)\n",
        "    new_label = torch.tensor(create_y_label(new_image,new_label))\n",
        "  \n",
        "    return (new_image, new_label)"
      ],
      "execution_count": null,
      "outputs": []
    },
    {
      "cell_type": "code",
      "metadata": {
        "id": "ho7ooUyNeTV_"
      },
      "source": [
        "train_loader = torch.utils.data.DataLoader(dataset=YOLODataset(train_images, train_raw_lables),batch_size = 64, shuffle = True)\n",
        "yolo_net=YOLO()\n",
        "device = torch.device(\"cuda:0\")\n",
        "yolo_net=yolo_net.cuda()\n",
        "learning_rate = 10e-3 "
      ],
      "execution_count": null,
      "outputs": []
    },
    {
      "cell_type": "code",
      "metadata": {
        "id": "zH_SFbjMHg4e"
      },
      "source": [
        "optimizer=torch.optim.Adam(yolo_net.parameters(),lr=0.001,weight_decay=0.0006)\n"
      ],
      "execution_count": null,
      "outputs": []
    },
    {
      "cell_type": "code",
      "metadata": {
        "id": "Knmqte9ekpi9"
      },
      "source": [
        "lambda_coord = torch.Tensor([5]).to(device)\n",
        "lambda_noobj = torch.Tensor([0.5]).to(device)"
      ],
      "execution_count": 37,
      "outputs": []
    },
    {
      "cell_type": "code",
      "metadata": {
        "id": "Id2qMaFbni66"
      },
      "source": [
        "training_loss = []\n",
        "epoc = []"
      ],
      "execution_count": null,
      "outputs": []
    },
    {
      "cell_type": "code",
      "metadata": {
        "id": "09dk_RUYGX0K"
      },
      "source": [
        "def train(net, optimizer, train_loader,epochs):\n",
        "    overall_step = 0\n",
        "    \n",
        "    \n",
        "    for epoch in tqdm.tqdm(range(epochs)):\n",
        "      net.train()\n",
        "      net.to(device)\n",
        "      train_loss = 0\n",
        "      for i, (images, labels) in enumerate(train_loader):\n",
        "        images = images.cuda()\n",
        "        labels = labels.cuda()\n",
        "        #images = images.permute(0, 3, 1, 2)\n",
        "        optimizer.zero_grad()\n",
        "        outputs = net(images)\n",
        "        loss = YoloLoss(outputs, labels,lambda_coord.cuda(),lambda_noobj.cuda()).cuda()\n",
        "        train_loss += loss.item()\n",
        "        loss.backward()\n",
        "        optimizer.step()\n",
        "      training_loss.append(train_loss /(i+1))\n",
        "      print(\"Training Loss\", train_loss / (i+1))\n",
        "      epoc.append(epoch)\n",
        "      path = os.path.join('','yolo_epoc'+str(epoch))\n",
        "      torch.save({\n",
        "                'epoch': epoch,\n",
        "                'model_state_dict': yolo_net.state_dict(),\n",
        "                'optimizer_state_dict': optimizer.state_dict()\n",
        "                }, path)\n",
        "\n",
        "      #  print(f' \\ntrain images {train_loss / len(train_loader)}')\n",
        "\n",
        "    return training_loss"
      ],
      "execution_count": null,
      "outputs": []
    },
    {
      "cell_type": "code",
      "metadata": {
        "id": "5CjNzqdMIXE4",
        "outputId": "d195c94d-badc-49d9-b5dd-7a9969720dd1",
        "colab": {
          "base_uri": "https://localhost:8080/",
          "height": 1000
        }
      },
      "source": [
        "train(yolo_net, optimizer, train_loader,20)"
      ],
      "execution_count": null,
      "outputs": [
        {
          "output_type": "stream",
          "text": [
            "\n",
            "  0%|          | 0/20 [00:00<?, ?it/s]\u001b[A"
          ],
          "name": "stderr"
        },
        {
          "output_type": "stream",
          "text": [
            "Training Loss 338.4824794921875\n"
          ],
          "name": "stdout"
        },
        {
          "output_type": "stream",
          "text": [
            "\n",
            "  5%|▌         | 1/20 [01:08<21:46, 68.76s/it]\u001b[A"
          ],
          "name": "stderr"
        },
        {
          "output_type": "stream",
          "text": [
            "Training Loss 277.4431334228516\n"
          ],
          "name": "stdout"
        },
        {
          "output_type": "stream",
          "text": [
            "\n",
            " 10%|█         | 2/20 [02:17<20:36, 68.72s/it]\u001b[A"
          ],
          "name": "stderr"
        },
        {
          "output_type": "stream",
          "text": [
            "Training Loss 238.71518041992186\n"
          ],
          "name": "stdout"
        },
        {
          "output_type": "stream",
          "text": [
            "\n",
            " 15%|█▌        | 3/20 [03:25<19:26, 68.63s/it]\u001b[A"
          ],
          "name": "stderr"
        },
        {
          "output_type": "stream",
          "text": [
            "Training Loss 219.71446936035156\n"
          ],
          "name": "stdout"
        },
        {
          "output_type": "stream",
          "text": [
            "\n",
            " 20%|██        | 4/20 [04:34<18:17, 68.57s/it]\u001b[A"
          ],
          "name": "stderr"
        },
        {
          "output_type": "stream",
          "text": [
            "Training Loss 201.15605480957032\n"
          ],
          "name": "stdout"
        },
        {
          "output_type": "stream",
          "text": [
            "\n",
            " 25%|██▌       | 5/20 [05:42<17:09, 68.62s/it]\u001b[A"
          ],
          "name": "stderr"
        },
        {
          "output_type": "stream",
          "text": [
            "Training Loss 185.15772094726563\n"
          ],
          "name": "stdout"
        },
        {
          "output_type": "stream",
          "text": [
            "\n",
            " 30%|███       | 6/20 [06:52<16:04, 68.88s/it]\u001b[A"
          ],
          "name": "stderr"
        },
        {
          "output_type": "stream",
          "text": [
            "Training Loss 166.27452770996095\n"
          ],
          "name": "stdout"
        },
        {
          "output_type": "stream",
          "text": [
            "\n",
            " 35%|███▌      | 7/20 [08:01<14:57, 69.06s/it]\u001b[A"
          ],
          "name": "stderr"
        },
        {
          "output_type": "stream",
          "text": [
            "Training Loss 145.18265338134765\n"
          ],
          "name": "stdout"
        },
        {
          "output_type": "stream",
          "text": [
            "\n",
            " 40%|████      | 8/20 [09:11<13:50, 69.18s/it]\u001b[A"
          ],
          "name": "stderr"
        },
        {
          "output_type": "stream",
          "text": [
            "Training Loss 125.6198663330078\n"
          ],
          "name": "stdout"
        },
        {
          "output_type": "stream",
          "text": [
            "\n",
            " 45%|████▌     | 9/20 [10:20<12:41, 69.26s/it]\u001b[A"
          ],
          "name": "stderr"
        },
        {
          "output_type": "stream",
          "text": [
            "Training Loss 104.81550201416016\n"
          ],
          "name": "stdout"
        },
        {
          "output_type": "stream",
          "text": [
            "\n",
            " 50%|█████     | 10/20 [11:30<11:33, 69.35s/it]\u001b[A"
          ],
          "name": "stderr"
        },
        {
          "output_type": "stream",
          "text": [
            "Training Loss 88.93587182617188\n"
          ],
          "name": "stdout"
        },
        {
          "output_type": "stream",
          "text": [
            "\n",
            " 55%|█████▌    | 11/20 [12:39<10:24, 69.41s/it]\u001b[A"
          ],
          "name": "stderr"
        },
        {
          "output_type": "stream",
          "text": [
            "Training Loss 77.45057580566406\n"
          ],
          "name": "stdout"
        },
        {
          "output_type": "stream",
          "text": [
            "\n",
            " 60%|██████    | 12/20 [13:49<09:16, 69.51s/it]\u001b[A"
          ],
          "name": "stderr"
        },
        {
          "output_type": "stream",
          "text": [
            "Training Loss 68.0871618347168\n"
          ],
          "name": "stdout"
        },
        {
          "output_type": "stream",
          "text": [
            "\n",
            " 65%|██████▌   | 13/20 [14:59<08:06, 69.55s/it]\u001b[A"
          ],
          "name": "stderr"
        },
        {
          "output_type": "stream",
          "text": [
            "Training Loss 61.92765634155273\n"
          ],
          "name": "stdout"
        },
        {
          "output_type": "stream",
          "text": [
            "\n",
            " 70%|███████   | 14/20 [16:09<06:58, 69.76s/it]\u001b[A"
          ],
          "name": "stderr"
        },
        {
          "output_type": "stream",
          "text": [
            "Training Loss 58.20695178222656\n"
          ],
          "name": "stdout"
        },
        {
          "output_type": "stream",
          "text": [
            "\n",
            " 75%|███████▌  | 15/20 [17:20<05:50, 70.06s/it]\u001b[A"
          ],
          "name": "stderr"
        },
        {
          "output_type": "stream",
          "text": [
            "Training Loss 55.096061737060545\n"
          ],
          "name": "stdout"
        },
        {
          "output_type": "stream",
          "text": [
            "\n",
            " 80%|████████  | 16/20 [18:30<04:40, 70.17s/it]\u001b[A"
          ],
          "name": "stderr"
        },
        {
          "output_type": "stream",
          "text": [
            "Training Loss 52.050148071289065\n"
          ],
          "name": "stdout"
        },
        {
          "output_type": "stream",
          "text": [
            "\n",
            " 85%|████████▌ | 17/20 [19:40<03:30, 70.11s/it]\u001b[A"
          ],
          "name": "stderr"
        },
        {
          "output_type": "stream",
          "text": [
            "Training Loss 49.9868821105957\n"
          ],
          "name": "stdout"
        },
        {
          "output_type": "stream",
          "text": [
            "\n",
            " 90%|█████████ | 18/20 [20:50<02:20, 70.05s/it]\u001b[A"
          ],
          "name": "stderr"
        },
        {
          "output_type": "stream",
          "text": [
            "Training Loss 47.99882083129883\n"
          ],
          "name": "stdout"
        },
        {
          "output_type": "stream",
          "text": [
            "\n",
            " 95%|█████████▌| 19/20 [22:00<01:10, 70.12s/it]\u001b[A"
          ],
          "name": "stderr"
        },
        {
          "output_type": "stream",
          "text": [
            "Training Loss 46.85792004394531\n"
          ],
          "name": "stdout"
        },
        {
          "output_type": "stream",
          "text": [
            "\n",
            "100%|██████████| 20/20 [23:11<00:00, 69.55s/it]\n"
          ],
          "name": "stderr"
        },
        {
          "output_type": "execute_result",
          "data": {
            "text/plain": [
              "[338.4824794921875,\n",
              " 277.4431334228516,\n",
              " 238.71518041992186,\n",
              " 219.71446936035156,\n",
              " 201.15605480957032,\n",
              " 185.15772094726563,\n",
              " 166.27452770996095,\n",
              " 145.18265338134765,\n",
              " 125.6198663330078,\n",
              " 104.81550201416016,\n",
              " 88.93587182617188,\n",
              " 77.45057580566406,\n",
              " 68.0871618347168,\n",
              " 61.92765634155273,\n",
              " 58.20695178222656,\n",
              " 55.096061737060545,\n",
              " 52.050148071289065,\n",
              " 49.9868821105957,\n",
              " 47.99882083129883,\n",
              " 46.85792004394531]"
            ]
          },
          "metadata": {
            "tags": []
          },
          "execution_count": 60
        }
      ]
    },
    {
      "cell_type": "code",
      "metadata": {
        "id": "rFrdUtTysPyl",
        "outputId": "6074d4bd-15f7-437a-e7ac-0adec228c231",
        "colab": {
          "base_uri": "https://localhost:8080/",
          "height": 281
        }
      },
      "source": [
        "import matplotlib.pyplot as plt\n",
        "\n",
        "plt.plot(epoc, training_loss, 'r--')\n",
        "plt.xlabel('Epoch')\n",
        "plt.ylabel('Loss')\n",
        "plt.show()"
      ],
      "execution_count": null,
      "outputs": [
        {
          "output_type": "display_data",
          "data": {
            "image/png": "[encoded data removed]",
            "text/plain": [
              "<Figure size 432x288 with 1 Axes>"
            ]
          },
          "metadata": {
            "tags": [],
            "needs_background": "light"
          }
        }
      ]
    },
    {
      "cell_type": "markdown",
      "metadata": {
        "id": "-kHonO77QK18"
      },
      "source": [
        "# Normalized More Epochs and different learning rate 10e-5"
      ]
    },
    {
      "cell_type": "code",
      "metadata": {
        "id": "oY8_gtRFk-IX"
      },
      "source": [
        "train_loader = torch.utils.data.DataLoader(dataset=YOLODataset(train_images, train_raw_lables),batch_size = 64, shuffle = True)\n",
        "yolo_net=YOLO()\n",
        "device = torch.device(\"cuda:0\")\n",
        "yolo_net=yolo_net.cuda()\n",
        "learning_rate = 10e-5\n",
        "optimizer=torch.optim.Adam(yolo_net.parameters(),lr=0.001,weight_decay=0.0006)\n",
        "training_loss = []\n",
        "epoc = []"
      ],
      "execution_count": null,
      "outputs": []
    },
    {
      "cell_type": "code",
      "metadata": {
        "id": "tAH8s-7XHagY",
        "outputId": "883dd20b-4550-44a7-d39a-76013596ec1d",
        "colab": {
          "base_uri": "https://localhost:8080/",
          "height": 1000
        }
      },
      "source": [
        "train(yolo_net, optimizer, train_loader,70)"
      ],
      "execution_count": null,
      "outputs": [
        {
          "output_type": "stream",
          "text": [
            "\n",
            "  0%|          | 0/70 [00:00<?, ?it/s]\u001b[A"
          ],
          "name": "stderr"
        },
        {
          "output_type": "stream",
          "text": [
            "Training Loss 363.768302734375\n"
          ],
          "name": "stdout"
        },
        {
          "output_type": "stream",
          "text": [
            "\n",
            "  1%|▏         | 1/70 [01:16<1:28:27, 76.92s/it]\u001b[A"
          ],
          "name": "stderr"
        },
        {
          "output_type": "stream",
          "text": [
            "Training Loss 261.4693897705078\n"
          ],
          "name": "stdout"
        },
        {
          "output_type": "stream",
          "text": [
            "\n",
            "  3%|▎         | 2/70 [02:34<1:27:18, 77.03s/it]\u001b[A"
          ],
          "name": "stderr"
        },
        {
          "output_type": "stream",
          "text": [
            "Training Loss 165.73312829589844\n"
          ],
          "name": "stdout"
        },
        {
          "output_type": "stream",
          "text": [
            "\n",
            "  4%|▍         | 3/70 [03:50<1:25:50, 76.88s/it]\u001b[A"
          ],
          "name": "stderr"
        },
        {
          "output_type": "stream",
          "text": [
            "Training Loss 105.91998010253906\n"
          ],
          "name": "stdout"
        },
        {
          "output_type": "stream",
          "text": [
            "\n",
            "  6%|▌         | 4/70 [05:07<1:24:24, 76.73s/it]\u001b[A"
          ],
          "name": "stderr"
        },
        {
          "output_type": "stream",
          "text": [
            "Training Loss 80.33988525390625\n"
          ],
          "name": "stdout"
        },
        {
          "output_type": "stream",
          "text": [
            "\n",
            "  7%|▋         | 5/70 [06:23<1:22:55, 76.55s/it]\u001b[A"
          ],
          "name": "stderr"
        },
        {
          "output_type": "stream",
          "text": [
            "Training Loss 68.4011750793457\n"
          ],
          "name": "stdout"
        },
        {
          "output_type": "stream",
          "text": [
            "\n",
            "  9%|▊         | 6/70 [07:39<1:21:40, 76.57s/it]\u001b[A"
          ],
          "name": "stderr"
        },
        {
          "output_type": "stream",
          "text": [
            "Training Loss 59.66570837402344\n"
          ],
          "name": "stdout"
        },
        {
          "output_type": "stream",
          "text": [
            "\n",
            " 10%|█         | 7/70 [08:56<1:20:17, 76.47s/it]\u001b[A"
          ],
          "name": "stderr"
        },
        {
          "output_type": "stream",
          "text": [
            "Training Loss 54.1959912109375\n"
          ],
          "name": "stdout"
        },
        {
          "output_type": "stream",
          "text": [
            "\n",
            " 11%|█▏        | 8/70 [10:12<1:18:53, 76.35s/it]\u001b[A"
          ],
          "name": "stderr"
        },
        {
          "output_type": "stream",
          "text": [
            "Training Loss 50.840084014892575\n"
          ],
          "name": "stdout"
        },
        {
          "output_type": "stream",
          "text": [
            "\n",
            " 13%|█▎        | 9/70 [11:28<1:17:28, 76.21s/it]\u001b[A"
          ],
          "name": "stderr"
        },
        {
          "output_type": "stream",
          "text": [
            "Training Loss 48.739354217529296\n"
          ],
          "name": "stdout"
        },
        {
          "output_type": "stream",
          "text": [
            "\n",
            " 14%|█▍        | 10/70 [12:44<1:16:13, 76.23s/it]\u001b[A"
          ],
          "name": "stderr"
        },
        {
          "output_type": "stream",
          "text": [
            "Training Loss 46.93278231811524\n"
          ],
          "name": "stdout"
        },
        {
          "output_type": "stream",
          "text": [
            "\n",
            " 16%|█▌        | 11/70 [14:00<1:14:54, 76.18s/it]\u001b[A"
          ],
          "name": "stderr"
        },
        {
          "output_type": "stream",
          "text": [
            "Training Loss 45.514030029296876\n"
          ],
          "name": "stdout"
        },
        {
          "output_type": "stream",
          "text": [
            "\n",
            " 17%|█▋        | 12/70 [15:16<1:13:33, 76.09s/it]\u001b[A"
          ],
          "name": "stderr"
        },
        {
          "output_type": "stream",
          "text": [
            "Training Loss 44.5013268737793\n"
          ],
          "name": "stdout"
        },
        {
          "output_type": "stream",
          "text": [
            "\n",
            " 19%|█▊        | 13/70 [16:32<1:12:14, 76.04s/it]\u001b[A"
          ],
          "name": "stderr"
        },
        {
          "output_type": "stream",
          "text": [
            "Training Loss 43.57973318481445\n"
          ],
          "name": "stdout"
        },
        {
          "output_type": "stream",
          "text": [
            "\n",
            " 20%|██        | 14/70 [17:48<1:11:02, 76.12s/it]\u001b[A"
          ],
          "name": "stderr"
        },
        {
          "output_type": "stream",
          "text": [
            "Training Loss 42.764539825439456\n"
          ],
          "name": "stdout"
        },
        {
          "output_type": "stream",
          "text": [
            "\n",
            " 21%|██▏       | 15/70 [19:04<1:09:49, 76.16s/it]\u001b[A"
          ],
          "name": "stderr"
        },
        {
          "output_type": "stream",
          "text": [
            "Training Loss 42.24668441772461\n"
          ],
          "name": "stdout"
        },
        {
          "output_type": "stream",
          "text": [
            "\n",
            " 23%|██▎       | 16/70 [20:21<1:08:34, 76.20s/it]\u001b[A"
          ],
          "name": "stderr"
        },
        {
          "output_type": "stream",
          "text": [
            "Training Loss 41.67566567993164\n"
          ],
          "name": "stdout"
        },
        {
          "output_type": "stream",
          "text": [
            "\n",
            " 24%|██▍       | 17/70 [21:37<1:07:18, 76.20s/it]\u001b[A"
          ],
          "name": "stderr"
        },
        {
          "output_type": "stream",
          "text": [
            "Training Loss 40.87099722290039\n"
          ],
          "name": "stdout"
        },
        {
          "output_type": "stream",
          "text": [
            "\n",
            " 26%|██▌       | 18/70 [22:54<1:06:13, 76.41s/it]\u001b[A"
          ],
          "name": "stderr"
        },
        {
          "output_type": "stream",
          "text": [
            "Training Loss 40.46856607055664\n"
          ],
          "name": "stdout"
        },
        {
          "output_type": "stream",
          "text": [
            "\n",
            " 27%|██▋       | 19/70 [24:10<1:05:02, 76.53s/it]\u001b[A"
          ],
          "name": "stderr"
        },
        {
          "output_type": "stream",
          "text": [
            "Training Loss 40.1327370300293\n"
          ],
          "name": "stdout"
        },
        {
          "output_type": "stream",
          "text": [
            "\n",
            " 29%|██▊       | 20/70 [25:27<1:03:48, 76.57s/it]\u001b[A"
          ],
          "name": "stderr"
        },
        {
          "output_type": "stream",
          "text": [
            "Training Loss 39.689321228027346\n"
          ],
          "name": "stdout"
        },
        {
          "output_type": "stream",
          "text": [
            "\n",
            " 30%|███       | 21/70 [26:43<1:02:24, 76.42s/it]\u001b[A"
          ],
          "name": "stderr"
        },
        {
          "output_type": "stream",
          "text": [
            "Training Loss 39.264650238037106\n"
          ],
          "name": "stdout"
        },
        {
          "output_type": "stream",
          "text": [
            "\n",
            " 31%|███▏      | 22/70 [27:59<1:01:02, 76.30s/it]\u001b[A"
          ],
          "name": "stderr"
        },
        {
          "output_type": "stream",
          "text": [
            "Training Loss 38.78890661621094\n"
          ],
          "name": "stdout"
        },
        {
          "output_type": "stream",
          "text": [
            "\n",
            " 33%|███▎      | 23/70 [29:16<59:47, 76.33s/it]  \u001b[A"
          ],
          "name": "stderr"
        },
        {
          "output_type": "stream",
          "text": [
            "Training Loss 38.31905596923828\n"
          ],
          "name": "stdout"
        },
        {
          "output_type": "stream",
          "text": [
            "\n",
            " 34%|███▍      | 24/70 [30:32<58:26, 76.23s/it]\u001b[A"
          ],
          "name": "stderr"
        },
        {
          "output_type": "stream",
          "text": [
            "Training Loss 38.298421234130856\n"
          ],
          "name": "stdout"
        },
        {
          "output_type": "stream",
          "text": [
            "\n",
            " 36%|███▌      | 25/70 [31:48<57:07, 76.17s/it]\u001b[A"
          ],
          "name": "stderr"
        },
        {
          "output_type": "stream",
          "text": [
            "Training Loss 37.988606658935545\n"
          ],
          "name": "stdout"
        },
        {
          "output_type": "stream",
          "text": [
            "\n",
            " 37%|███▋      | 26/70 [33:04<55:51, 76.17s/it]\u001b[A"
          ],
          "name": "stderr"
        },
        {
          "output_type": "stream",
          "text": [
            "Training Loss 37.71734536743164\n"
          ],
          "name": "stdout"
        },
        {
          "output_type": "stream",
          "text": [
            "\n",
            " 39%|███▊      | 27/70 [34:19<54:26, 75.96s/it]\u001b[A"
          ],
          "name": "stderr"
        },
        {
          "output_type": "stream",
          "text": [
            "Training Loss 37.37714880371094\n"
          ],
          "name": "stdout"
        },
        {
          "output_type": "stream",
          "text": [
            "\n",
            " 40%|████      | 28/70 [35:34<52:59, 75.71s/it]\u001b[A"
          ],
          "name": "stderr"
        },
        {
          "output_type": "stream",
          "text": [
            "Training Loss 37.01641897583008\n"
          ],
          "name": "stdout"
        },
        {
          "output_type": "stream",
          "text": [
            "\n",
            " 41%|████▏     | 29/70 [36:50<51:46, 75.77s/it]\u001b[A"
          ],
          "name": "stderr"
        },
        {
          "output_type": "stream",
          "text": [
            "Training Loss 36.904382293701175\n"
          ],
          "name": "stdout"
        },
        {
          "output_type": "stream",
          "text": [
            "\n",
            " 43%|████▎     | 30/70 [38:10<51:19, 76.99s/it]\u001b[A"
          ],
          "name": "stderr"
        },
        {
          "output_type": "stream",
          "text": [
            "Training Loss 36.75805047607422\n"
          ],
          "name": "stdout"
        },
        {
          "output_type": "stream",
          "text": [
            "\n",
            " 44%|████▍     | 31/70 [39:29<50:25, 77.58s/it]\u001b[A"
          ],
          "name": "stderr"
        },
        {
          "output_type": "stream",
          "text": [
            "Training Loss 36.66643211364746\n"
          ],
          "name": "stdout"
        },
        {
          "output_type": "stream",
          "text": [
            "\n",
            " 46%|████▌     | 32/70 [40:48<49:21, 77.92s/it]\u001b[A"
          ],
          "name": "stderr"
        },
        {
          "output_type": "stream",
          "text": [
            "Training Loss 36.54807682800293\n"
          ],
          "name": "stdout"
        },
        {
          "output_type": "stream",
          "text": [
            "\n",
            " 47%|████▋     | 33/70 [42:07<48:11, 78.14s/it]\u001b[A"
          ],
          "name": "stderr"
        },
        {
          "output_type": "stream",
          "text": [
            "Training Loss 36.587403549194335\n"
          ],
          "name": "stdout"
        },
        {
          "output_type": "stream",
          "text": [
            "\n",
            " 49%|████▊     | 34/70 [43:25<46:53, 78.16s/it]\u001b[A"
          ],
          "name": "stderr"
        },
        {
          "output_type": "stream",
          "text": [
            "Training Loss 36.27343348693848\n"
          ],
          "name": "stdout"
        },
        {
          "output_type": "stream",
          "text": [
            "\n",
            " 50%|█████     | 35/70 [44:42<45:30, 78.01s/it]\u001b[A"
          ],
          "name": "stderr"
        },
        {
          "output_type": "stream",
          "text": [
            "Training Loss 36.15226725769043\n"
          ],
          "name": "stdout"
        },
        {
          "output_type": "stream",
          "text": [
            "\n",
            " 51%|█████▏    | 36/70 [46:00<44:07, 77.87s/it]\u001b[A"
          ],
          "name": "stderr"
        },
        {
          "output_type": "stream",
          "text": [
            "Training Loss 36.24437329101563\n"
          ],
          "name": "stdout"
        },
        {
          "output_type": "stream",
          "text": [
            "\n",
            " 53%|█████▎    | 37/70 [47:17<42:46, 77.78s/it]\u001b[A"
          ],
          "name": "stderr"
        },
        {
          "output_type": "stream",
          "text": [
            "Training Loss 36.18055207824707\n"
          ],
          "name": "stdout"
        },
        {
          "output_type": "stream",
          "text": [
            "\n",
            " 54%|█████▍    | 38/70 [48:35<41:27, 77.74s/it]\u001b[A"
          ],
          "name": "stderr"
        },
        {
          "output_type": "stream",
          "text": [
            "Training Loss 36.00242599487305\n"
          ],
          "name": "stdout"
        },
        {
          "output_type": "stream",
          "text": [
            "\n",
            " 56%|█████▌    | 39/70 [49:53<40:13, 77.85s/it]\u001b[A"
          ],
          "name": "stderr"
        },
        {
          "output_type": "stream",
          "text": [
            "Training Loss 35.54080107116699\n"
          ],
          "name": "stdout"
        },
        {
          "output_type": "stream",
          "text": [
            "\n",
            " 57%|█████▋    | 40/70 [51:11<38:56, 77.90s/it]\u001b[A"
          ],
          "name": "stderr"
        },
        {
          "output_type": "stream",
          "text": [
            "Training Loss 35.233437225341795\n"
          ],
          "name": "stdout"
        },
        {
          "output_type": "stream",
          "text": [
            "\n",
            " 59%|█████▊    | 41/70 [52:29<37:40, 77.94s/it]\u001b[A"
          ],
          "name": "stderr"
        },
        {
          "output_type": "stream",
          "text": [
            "Training Loss 35.16902279663086\n"
          ],
          "name": "stdout"
        },
        {
          "output_type": "stream",
          "text": [
            "\n",
            " 60%|██████    | 42/70 [53:47<36:17, 77.77s/it]\u001b[A"
          ],
          "name": "stderr"
        },
        {
          "output_type": "stream",
          "text": [
            "Training Loss 35.16364152526855\n"
          ],
          "name": "stdout"
        },
        {
          "output_type": "stream",
          "text": [
            "\n",
            " 61%|██████▏   | 43/70 [54:59<34:18, 76.25s/it]\u001b[A"
          ],
          "name": "stderr"
        },
        {
          "output_type": "stream",
          "text": [
            "Training Loss 35.118868087768554\n"
          ],
          "name": "stdout"
        },
        {
          "output_type": "stream",
          "text": [
            "\n",
            " 63%|██████▎   | 44/70 [56:13<32:38, 75.33s/it]\u001b[A"
          ],
          "name": "stderr"
        },
        {
          "output_type": "stream",
          "text": [
            "Training Loss 34.69296369934082\n"
          ],
          "name": "stdout"
        },
        {
          "output_type": "stream",
          "text": [
            "\n",
            " 64%|██████▍   | 45/70 [57:26<31:09, 74.76s/it]\u001b[A"
          ],
          "name": "stderr"
        },
        {
          "output_type": "stream",
          "text": [
            "Training Loss 34.17684033203125\n"
          ],
          "name": "stdout"
        },
        {
          "output_type": "stream",
          "text": [
            "\n",
            " 66%|██████▌   | 46/70 [58:40<29:46, 74.43s/it]\u001b[A"
          ],
          "name": "stderr"
        },
        {
          "output_type": "stream",
          "text": [
            "Training Loss 34.16598207092285\n"
          ],
          "name": "stdout"
        },
        {
          "output_type": "stream",
          "text": [
            "\n",
            " 67%|██████▋   | 47/70 [59:53<28:21, 74.00s/it]\u001b[A"
          ],
          "name": "stderr"
        },
        {
          "output_type": "stream",
          "text": [
            "Training Loss 34.4301309967041\n"
          ],
          "name": "stdout"
        },
        {
          "output_type": "stream",
          "text": [
            "\n",
            " 69%|██████▊   | 48/70 [1:01:05<26:57, 73.54s/it]\u001b[A"
          ],
          "name": "stderr"
        },
        {
          "output_type": "stream",
          "text": [
            "Training Loss 43.530526123046876\n"
          ],
          "name": "stdout"
        },
        {
          "output_type": "stream",
          "text": [
            "\n",
            " 70%|███████   | 49/70 [1:02:18<25:37, 73.23s/it]\u001b[A"
          ],
          "name": "stderr"
        },
        {
          "output_type": "stream",
          "text": [
            "Training Loss 65.66982064819337\n"
          ],
          "name": "stdout"
        },
        {
          "output_type": "stream",
          "text": [
            "\n",
            " 71%|███████▏  | 50/70 [1:03:30<24:19, 72.99s/it]\u001b[A"
          ],
          "name": "stderr"
        },
        {
          "output_type": "stream",
          "text": [
            "Training Loss 52.08317953491211\n"
          ],
          "name": "stdout"
        },
        {
          "output_type": "stream",
          "text": [
            "\n",
            " 73%|███████▎  | 51/70 [1:04:43<23:04, 72.85s/it]\u001b[A"
          ],
          "name": "stderr"
        },
        {
          "output_type": "stream",
          "text": [
            "Training Loss 40.70739013671875\n"
          ],
          "name": "stdout"
        },
        {
          "output_type": "stream",
          "text": [
            "\n",
            " 74%|███████▍  | 52/70 [1:05:55<21:48, 72.70s/it]\u001b[A"
          ],
          "name": "stderr"
        },
        {
          "output_type": "stream",
          "text": [
            "Training Loss 35.771351226806644\n"
          ],
          "name": "stdout"
        },
        {
          "output_type": "stream",
          "text": [
            "\n",
            " 76%|███████▌  | 53/70 [1:07:07<20:33, 72.55s/it]\u001b[A"
          ],
          "name": "stderr"
        },
        {
          "output_type": "stream",
          "text": [
            "Training Loss 33.40816856384277\n"
          ],
          "name": "stdout"
        },
        {
          "output_type": "stream",
          "text": [
            "\n",
            " 77%|███████▋  | 54/70 [1:08:19<19:19, 72.47s/it]\u001b[A"
          ],
          "name": "stderr"
        },
        {
          "output_type": "stream",
          "text": [
            "Training Loss 32.347065246582034\n"
          ],
          "name": "stdout"
        },
        {
          "output_type": "stream",
          "text": [
            "\n",
            " 79%|███████▊  | 55/70 [1:09:32<18:06, 72.42s/it]\u001b[A"
          ],
          "name": "stderr"
        },
        {
          "output_type": "stream",
          "text": [
            "Training Loss 31.900791625976563\n"
          ],
          "name": "stdout"
        },
        {
          "output_type": "stream",
          "text": [
            "\n",
            " 80%|████████  | 56/70 [1:10:44<16:53, 72.39s/it]\u001b[A"
          ],
          "name": "stderr"
        },
        {
          "output_type": "stream",
          "text": [
            "Training Loss 31.613615646362305\n"
          ],
          "name": "stdout"
        },
        {
          "output_type": "stream",
          "text": [
            "\n",
            " 81%|████████▏ | 57/70 [1:11:56<15:40, 72.34s/it]\u001b[A"
          ],
          "name": "stderr"
        },
        {
          "output_type": "stream",
          "text": [
            "Training Loss 31.56848826599121\n"
          ],
          "name": "stdout"
        },
        {
          "output_type": "stream",
          "text": [
            "\n",
            " 83%|████████▎ | 58/70 [1:13:09<14:28, 72.34s/it]\u001b[A"
          ],
          "name": "stderr"
        },
        {
          "output_type": "stream",
          "text": [
            "Training Loss 31.39718782043457\n"
          ],
          "name": "stdout"
        },
        {
          "output_type": "stream",
          "text": [
            "\n",
            " 84%|████████▍ | 59/70 [1:14:21<13:15, 72.30s/it]\u001b[A"
          ],
          "name": "stderr"
        },
        {
          "output_type": "stream",
          "text": [
            "Training Loss 31.33177426147461\n"
          ],
          "name": "stdout"
        },
        {
          "output_type": "stream",
          "text": [
            "\n",
            " 86%|████████▌ | 60/70 [1:15:33<12:04, 72.41s/it]\u001b[A"
          ],
          "name": "stderr"
        },
        {
          "output_type": "stream",
          "text": [
            "Training Loss 31.399865158081056\n"
          ],
          "name": "stdout"
        },
        {
          "output_type": "stream",
          "text": [
            "\n",
            " 87%|████████▋ | 61/70 [1:16:47<10:54, 72.67s/it]\u001b[A"
          ],
          "name": "stderr"
        },
        {
          "output_type": "stream",
          "text": [
            "Training Loss 31.355835250854494\n"
          ],
          "name": "stdout"
        },
        {
          "output_type": "stream",
          "text": [
            "\n",
            " 89%|████████▊ | 62/70 [1:17:59<09:39, 72.50s/it]\u001b[A"
          ],
          "name": "stderr"
        },
        {
          "output_type": "stream",
          "text": [
            "Training Loss 31.32576268005371\n"
          ],
          "name": "stdout"
        },
        {
          "output_type": "stream",
          "text": [
            "\n",
            " 90%|█████████ | 63/70 [1:19:11<08:26, 72.36s/it]\u001b[A"
          ],
          "name": "stderr"
        },
        {
          "output_type": "stream",
          "text": [
            "Training Loss 31.426707550048828\n"
          ],
          "name": "stdout"
        },
        {
          "output_type": "stream",
          "text": [
            "\n",
            " 91%|█████████▏| 64/70 [1:20:23<07:14, 72.36s/it]\u001b[A"
          ],
          "name": "stderr"
        },
        {
          "output_type": "stream",
          "text": [
            "Training Loss 31.62218000793457\n"
          ],
          "name": "stdout"
        },
        {
          "output_type": "stream",
          "text": [
            "\n",
            " 93%|█████████▎| 65/70 [1:21:35<06:01, 72.29s/it]\u001b[A"
          ],
          "name": "stderr"
        },
        {
          "output_type": "stream",
          "text": [
            "Training Loss 31.878828216552733\n"
          ],
          "name": "stdout"
        },
        {
          "output_type": "stream",
          "text": [
            "\n",
            " 94%|█████████▍| 66/70 [1:22:48<04:49, 72.27s/it]\u001b[A"
          ],
          "name": "stderr"
        },
        {
          "output_type": "stream",
          "text": [
            "Training Loss 31.792303817749023\n"
          ],
          "name": "stdout"
        },
        {
          "output_type": "stream",
          "text": [
            "\n",
            " 96%|█████████▌| 67/70 [1:24:00<03:36, 72.29s/it]\u001b[A"
          ],
          "name": "stderr"
        },
        {
          "output_type": "stream",
          "text": [
            "Training Loss 31.725135986328127\n"
          ],
          "name": "stdout"
        },
        {
          "output_type": "stream",
          "text": [
            "\n",
            " 97%|█████████▋| 68/70 [1:25:12<02:24, 72.30s/it]\u001b[A"
          ],
          "name": "stderr"
        },
        {
          "output_type": "stream",
          "text": [
            "Training Loss 31.818549728393556\n"
          ],
          "name": "stdout"
        },
        {
          "output_type": "stream",
          "text": [
            "\n",
            " 99%|█████████▊| 69/70 [1:26:25<01:12, 72.49s/it]\u001b[A"
          ],
          "name": "stderr"
        },
        {
          "output_type": "stream",
          "text": [
            "Training Loss 31.82358609008789\n"
          ],
          "name": "stdout"
        },
        {
          "output_type": "stream",
          "text": [
            "\n",
            "100%|██████████| 70/70 [1:27:39<00:00, 75.13s/it]\n"
          ],
          "name": "stderr"
        },
        {
          "output_type": "execute_result",
          "data": {
            "text/plain": [
              "[338.4824794921875,\n",
              " 277.4431334228516,\n",
              " 238.71518041992186,\n",
              " 219.71446936035156,\n",
              " 201.15605480957032,\n",
              " 185.15772094726563,\n",
              " 166.27452770996095,\n",
              " 145.18265338134765,\n",
              " 125.6198663330078,\n",
              " 104.81550201416016,\n",
              " 88.93587182617188,\n",
              " 77.45057580566406,\n",
              " 68.0871618347168,\n",
              " 61.92765634155273,\n",
              " 58.20695178222656,\n",
              " 55.096061737060545,\n",
              " 52.050148071289065,\n",
              " 49.9868821105957,\n",
              " 47.99882083129883,\n",
              " 46.85792004394531]"
            ]
          },
          "metadata": {
            "tags": []
          },
          "execution_count": 97
        }
      ]
    },
    {
      "cell_type": "code",
      "metadata": {
        "id": "T-auOR6beThz",
        "outputId": "cbafda32-d4bf-4ecc-fec7-dc7753b7cdc3",
        "colab": {
          "base_uri": "https://localhost:8080/",
          "height": 279
        }
      },
      "source": [
        "#70 epochs with Normalization \n",
        "plt.plot(epoc_norm, training_loss_norm, 'r--')\n",
        "plt.xlabel('Epoch')\n",
        "plt.ylabel('Loss')\n",
        "plt.show()"
      ],
      "execution_count": null,
      "outputs": [
        {
          "output_type": "display_data",
          "data": {
            "image/png": "[encoded data removed]",
            "text/plain": [
              "<Figure size 432x288 with 1 Axes>"
            ]
          },
          "metadata": {
            "tags": [],
            "needs_background": "light"
          }
        }
      ]
    },
    {
      "cell_type": "markdown",
      "metadata": {
        "id": "mOAaeq0SumDQ"
      },
      "source": [
        "# Non-Normalized and more epochs\n"
      ]
    },
    {
      "cell_type": "code",
      "metadata": {
        "id": "0MBjyPLPuwTv"
      },
      "source": [
        "class YOLONormDataset(torch.utils.data.Dataset):\n",
        "  \n",
        "  def __init__(self, image_file, label_file, transform = None):\n",
        "    self.images = image_file\n",
        "    self.labels = label_file\n",
        "\n",
        "  def __len__(self):\n",
        "    return len(self.labels)\n",
        "    \n",
        "  def __getitem__(self, index):\n",
        "    new_image = self.images[index]\n",
        "    new_label = self.labels[index]\n",
        "    \n",
        "    \n",
        "    new_label = torch.tensor(create_y_label(new_image,new_label))\n",
        "  \n",
        "    return (new_image, new_label)"
      ],
      "execution_count": 35,
      "outputs": []
    },
    {
      "cell_type": "code",
      "metadata": {
        "id": "1fuovRiyurxa"
      },
      "source": [
        "train_loader = torch.utils.data.DataLoader(dataset=YOLONormDataset(train_images, train_raw_lables),batch_size = 64, shuffle = True)\n",
        "\n",
        "yolo_net=YOLO()\n",
        "device = torch.device(\"cuda:0\")\n",
        "yolo_net=yolo_net.cuda()\n"
      ],
      "execution_count": 36,
      "outputs": []
    },
    {
      "cell_type": "code",
      "metadata": {
        "id": "n0xe5LKtu4_b"
      },
      "source": [
        "optimizer=torch.optim.Adam(yolo_net.parameters(),lr=10e-5,weight_decay=0.0006)\n"
      ],
      "execution_count": null,
      "outputs": []
    },
    {
      "cell_type": "code",
      "metadata": {
        "id": "ncDQQ7kRvNN4"
      },
      "source": [
        "training_loss_norm = []\n",
        "epoc_norm = []"
      ],
      "execution_count": null,
      "outputs": []
    },
    {
      "cell_type": "code",
      "metadata": {
        "id": "EaAjzpapu-NX"
      },
      "source": [
        "def train(net, optimizer, train_loader,epochs):\n",
        "    overall_step = 0\n",
        "    \n",
        "    \n",
        "    for epoch in tqdm.tqdm(range(epochs)):\n",
        "      net.train()\n",
        "      net.to(device)\n",
        "      train_loss = 0\n",
        "      for i, (images, labels) in enumerate(train_loader):\n",
        "        images = images.cuda()\n",
        "        labels = labels.cuda()\n",
        "        images = images.permute(0, 3, 1, 2)\n",
        "        optimizer.zero_grad()\n",
        "        outputs = net(images)\n",
        "        loss = YoloLoss(outputs, labels,lambda_coord.cuda(),lambda_noobj.cuda()).cuda()\n",
        "        #print(\"INtermittent LOss\", loss/(i+1))\n",
        "        train_loss += loss.item()\n",
        "        loss.backward()\n",
        "        optimizer.step()\n",
        "      training_loss_norm.append(train_loss /(i+1))\n",
        "      print(\"Training Loss\", train_loss / (i+1))\n",
        "      epoc_norm.append(epoch)\n",
        "      path = os.path.join('','yolo_norm_epoc'+str(epoch))\n",
        "      torch.save({\n",
        "                'epoch': epoch,\n",
        "                'model_state_dict': yolo_net.state_dict(),\n",
        "                'optimizer_state_dict': optimizer.state_dict()\n",
        "                }, path)\n",
        "\n",
        "      #  print(f' \\ntrain images {train_loss / len(train_loader)}')\n",
        "\n",
        "    return training_loss"
      ],
      "execution_count": null,
      "outputs": []
    },
    {
      "cell_type": "code",
      "metadata": {
        "id": "StPHit86P3bz",
        "outputId": "3b6b3974-8ed3-4033-b095-8894de0bc202",
        "colab": {
          "base_uri": "https://localhost:8080/",
          "height": 1000
        }
      },
      "source": [
        "train(yolo_net, optimizer, train_loader,50)"
      ],
      "execution_count": null,
      "outputs": [
        {
          "output_type": "stream",
          "text": [
            "\n",
            "  0%|          | 0/50 [00:00<?, ?it/s]\u001b[A"
          ],
          "name": "stderr"
        },
        {
          "output_type": "stream",
          "text": [
            "Training Loss 359.3986450195313\n"
          ],
          "name": "stdout"
        },
        {
          "output_type": "stream",
          "text": [
            "\n",
            "  2%|▏         | 1/50 [01:15<1:01:28, 75.27s/it]\u001b[A"
          ],
          "name": "stderr"
        },
        {
          "output_type": "stream",
          "text": [
            "Training Loss 254.1849598388672\n"
          ],
          "name": "stdout"
        },
        {
          "output_type": "stream",
          "text": [
            "\n",
            "  4%|▍         | 2/50 [02:31<1:00:21, 75.44s/it]\u001b[A"
          ],
          "name": "stderr"
        },
        {
          "output_type": "stream",
          "text": [
            "Training Loss 162.4098180541992\n"
          ],
          "name": "stdout"
        },
        {
          "output_type": "stream",
          "text": [
            "\n",
            "  6%|▌         | 3/50 [03:46<59:06, 75.46s/it]  \u001b[A"
          ],
          "name": "stderr"
        },
        {
          "output_type": "stream",
          "text": [
            "Training Loss 104.4099691772461\n"
          ],
          "name": "stdout"
        },
        {
          "output_type": "stream",
          "text": [
            "\n",
            "  8%|▊         | 4/50 [05:02<57:50, 75.45s/it]\u001b[A"
          ],
          "name": "stderr"
        },
        {
          "output_type": "stream",
          "text": [
            "Training Loss 79.11421496582031\n"
          ],
          "name": "stdout"
        },
        {
          "output_type": "stream",
          "text": [
            "\n",
            " 10%|█         | 5/50 [06:17<56:31, 75.37s/it]\u001b[A"
          ],
          "name": "stderr"
        },
        {
          "output_type": "stream",
          "text": [
            "Training Loss 65.41761239624023\n"
          ],
          "name": "stdout"
        },
        {
          "output_type": "stream",
          "text": [
            "\n",
            " 12%|█▏        | 6/50 [07:32<55:16, 75.37s/it]\u001b[A"
          ],
          "name": "stderr"
        },
        {
          "output_type": "stream",
          "text": [
            "Training Loss 58.21434429931641\n"
          ],
          "name": "stdout"
        },
        {
          "output_type": "stream",
          "text": [
            "\n",
            " 14%|█▍        | 7/50 [08:47<53:57, 75.30s/it]\u001b[A"
          ],
          "name": "stderr"
        },
        {
          "output_type": "stream",
          "text": [
            "Training Loss 53.644132629394534\n"
          ],
          "name": "stdout"
        },
        {
          "output_type": "stream",
          "text": [
            "\n",
            " 16%|█▌        | 8/50 [10:02<52:34, 75.12s/it]\u001b[A"
          ],
          "name": "stderr"
        },
        {
          "output_type": "stream",
          "text": [
            "Training Loss 50.85198934936523\n"
          ],
          "name": "stdout"
        },
        {
          "output_type": "stream",
          "text": [
            "\n",
            " 18%|█▊        | 9/50 [11:17<51:22, 75.18s/it]\u001b[A"
          ],
          "name": "stderr"
        },
        {
          "output_type": "stream",
          "text": [
            "Training Loss 48.361186004638675\n"
          ],
          "name": "stdout"
        },
        {
          "output_type": "stream",
          "text": [
            "\n",
            " 20%|██        | 10/50 [12:33<50:14, 75.36s/it]\u001b[A"
          ],
          "name": "stderr"
        },
        {
          "output_type": "stream",
          "text": [
            "Training Loss 46.98525897216797\n"
          ],
          "name": "stdout"
        },
        {
          "output_type": "stream",
          "text": [
            "\n",
            " 22%|██▏       | 11/50 [13:48<48:55, 75.28s/it]\u001b[A"
          ],
          "name": "stderr"
        },
        {
          "output_type": "stream",
          "text": [
            "Training Loss 45.65297503662109\n"
          ],
          "name": "stdout"
        },
        {
          "output_type": "stream",
          "text": [
            "\n",
            " 24%|██▍       | 12/50 [15:03<47:35, 75.16s/it]\u001b[A"
          ],
          "name": "stderr"
        },
        {
          "output_type": "stream",
          "text": [
            "Training Loss 44.854537414550784\n"
          ],
          "name": "stdout"
        },
        {
          "output_type": "stream",
          "text": [
            "\n",
            " 26%|██▌       | 13/50 [16:17<46:12, 74.93s/it]\u001b[A"
          ],
          "name": "stderr"
        },
        {
          "output_type": "stream",
          "text": [
            "Training Loss 43.673679901123045\n"
          ],
          "name": "stdout"
        },
        {
          "output_type": "stream",
          "text": [
            "\n",
            " 28%|██▊       | 14/50 [17:32<44:53, 74.82s/it]\u001b[A"
          ],
          "name": "stderr"
        },
        {
          "output_type": "stream",
          "text": [
            "Training Loss 42.97524722290039\n"
          ],
          "name": "stdout"
        },
        {
          "output_type": "stream",
          "text": [
            "\n",
            " 30%|███       | 15/50 [18:47<43:39, 74.84s/it]\u001b[A"
          ],
          "name": "stderr"
        },
        {
          "output_type": "stream",
          "text": [
            "Training Loss 42.08205743408203\n"
          ],
          "name": "stdout"
        },
        {
          "output_type": "stream",
          "text": [
            "\n",
            " 32%|███▏      | 16/50 [20:02<42:25, 74.86s/it]\u001b[A"
          ],
          "name": "stderr"
        },
        {
          "output_type": "stream",
          "text": [
            "Training Loss 41.84024984741211\n"
          ],
          "name": "stdout"
        },
        {
          "output_type": "stream",
          "text": [
            "\n",
            " 34%|███▍      | 17/50 [21:17<41:10, 74.87s/it]\u001b[A"
          ],
          "name": "stderr"
        },
        {
          "output_type": "stream",
          "text": [
            "Training Loss 40.656524536132814\n"
          ],
          "name": "stdout"
        },
        {
          "output_type": "stream",
          "text": [
            "\n",
            " 36%|███▌      | 18/50 [22:32<39:56, 74.90s/it]\u001b[A"
          ],
          "name": "stderr"
        },
        {
          "output_type": "stream",
          "text": [
            "Training Loss 40.458023742675785\n"
          ],
          "name": "stdout"
        },
        {
          "output_type": "stream",
          "text": [
            "\n",
            " 38%|███▊      | 19/50 [23:46<38:36, 74.72s/it]\u001b[A"
          ],
          "name": "stderr"
        },
        {
          "output_type": "stream",
          "text": [
            "Training Loss 40.22499188232422\n"
          ],
          "name": "stdout"
        },
        {
          "output_type": "stream",
          "text": [
            "\n",
            " 40%|████      | 20/50 [25:00<37:16, 74.56s/it]\u001b[A"
          ],
          "name": "stderr"
        },
        {
          "output_type": "stream",
          "text": [
            "Training Loss 39.475101348876954\n"
          ],
          "name": "stdout"
        },
        {
          "output_type": "stream",
          "text": [
            "\n",
            " 42%|████▏     | 21/50 [26:14<35:58, 74.44s/it]\u001b[A"
          ],
          "name": "stderr"
        },
        {
          "output_type": "stream",
          "text": [
            "Training Loss 38.944489471435546\n"
          ],
          "name": "stdout"
        },
        {
          "output_type": "stream",
          "text": [
            "\n",
            " 44%|████▍     | 22/50 [27:27<34:32, 74.02s/it]\u001b[A"
          ],
          "name": "stderr"
        },
        {
          "output_type": "stream",
          "text": [
            "Training Loss 38.75115487670899\n"
          ],
          "name": "stdout"
        },
        {
          "output_type": "stream",
          "text": [
            "\n",
            " 46%|████▌     | 23/50 [28:41<33:15, 73.90s/it]\u001b[A"
          ],
          "name": "stderr"
        },
        {
          "output_type": "stream",
          "text": [
            "Training Loss 38.38265048217774\n"
          ],
          "name": "stdout"
        },
        {
          "output_type": "stream",
          "text": [
            "\n",
            " 48%|████▊     | 24/50 [29:54<31:51, 73.51s/it]\u001b[A"
          ],
          "name": "stderr"
        },
        {
          "output_type": "stream",
          "text": [
            "Training Loss 38.09768099975586\n"
          ],
          "name": "stdout"
        },
        {
          "output_type": "stream",
          "text": [
            "\n",
            " 50%|█████     | 25/50 [31:06<30:30, 73.22s/it]\u001b[A"
          ],
          "name": "stderr"
        },
        {
          "output_type": "stream",
          "text": [
            "Training Loss 38.08618872070313\n"
          ],
          "name": "stdout"
        },
        {
          "output_type": "stream",
          "text": [
            "\n",
            " 52%|█████▏    | 26/50 [32:19<29:13, 73.05s/it]\u001b[A"
          ],
          "name": "stderr"
        },
        {
          "output_type": "stream",
          "text": [
            "Training Loss 37.98798587036133\n"
          ],
          "name": "stdout"
        },
        {
          "output_type": "stream",
          "text": [
            "\n",
            " 54%|█████▍    | 27/50 [33:32<27:58, 72.99s/it]\u001b[A"
          ],
          "name": "stderr"
        },
        {
          "output_type": "stream",
          "text": [
            "Training Loss 37.736977508544925\n"
          ],
          "name": "stdout"
        },
        {
          "output_type": "stream",
          "text": [
            "\n",
            " 56%|█████▌    | 28/50 [34:44<26:42, 72.86s/it]\u001b[A"
          ],
          "name": "stderr"
        },
        {
          "output_type": "stream",
          "text": [
            "Training Loss 37.26684423828125\n"
          ],
          "name": "stdout"
        },
        {
          "output_type": "stream",
          "text": [
            "\n",
            " 58%|█████▊    | 29/50 [35:57<25:28, 72.80s/it]\u001b[A"
          ],
          "name": "stderr"
        },
        {
          "output_type": "stream",
          "text": [
            "Training Loss 36.795729660034176\n"
          ],
          "name": "stdout"
        },
        {
          "output_type": "stream",
          "text": [
            "\n",
            " 60%|██████    | 30/50 [37:09<24:11, 72.60s/it]\u001b[A"
          ],
          "name": "stderr"
        },
        {
          "output_type": "stream",
          "text": [
            "Training Loss 36.73463800048828\n"
          ],
          "name": "stdout"
        },
        {
          "output_type": "stream",
          "text": [
            "\n",
            " 62%|██████▏   | 31/50 [38:21<22:55, 72.41s/it]\u001b[A"
          ],
          "name": "stderr"
        },
        {
          "output_type": "stream",
          "text": [
            "Training Loss 36.933122222900394\n"
          ],
          "name": "stdout"
        },
        {
          "output_type": "stream",
          "text": [
            "\n",
            " 64%|██████▍   | 32/50 [39:33<21:40, 72.27s/it]\u001b[A"
          ],
          "name": "stderr"
        },
        {
          "output_type": "stream",
          "text": [
            "Training Loss 36.923436294555664\n"
          ],
          "name": "stdout"
        },
        {
          "output_type": "stream",
          "text": [
            "\n",
            " 66%|██████▌   | 33/50 [40:45<20:27, 72.18s/it]\u001b[A"
          ],
          "name": "stderr"
        },
        {
          "output_type": "stream",
          "text": [
            "Training Loss 36.848327011108395\n"
          ],
          "name": "stdout"
        },
        {
          "output_type": "stream",
          "text": [
            "\n",
            " 68%|██████▊   | 34/50 [41:57<19:15, 72.21s/it]\u001b[A"
          ],
          "name": "stderr"
        },
        {
          "output_type": "stream",
          "text": [
            "Training Loss 36.43327024841309\n"
          ],
          "name": "stdout"
        },
        {
          "output_type": "stream",
          "text": [
            "\n",
            " 70%|███████   | 35/50 [43:09<18:03, 72.25s/it]\u001b[A"
          ],
          "name": "stderr"
        },
        {
          "output_type": "stream",
          "text": [
            "Training Loss 36.08682551574707\n"
          ],
          "name": "stdout"
        },
        {
          "output_type": "stream",
          "text": [
            "\n",
            " 72%|███████▏  | 36/50 [44:23<16:58, 72.73s/it]\u001b[A"
          ],
          "name": "stderr"
        },
        {
          "output_type": "stream",
          "text": [
            "Training Loss 36.08781988525391\n"
          ],
          "name": "stdout"
        },
        {
          "output_type": "stream",
          "text": [
            "\n",
            " 74%|███████▍  | 37/50 [45:38<15:52, 73.28s/it]\u001b[A"
          ],
          "name": "stderr"
        },
        {
          "output_type": "stream",
          "text": [
            "Training Loss 36.00218685913086\n"
          ],
          "name": "stdout"
        },
        {
          "output_type": "stream",
          "text": [
            "\n",
            " 76%|███████▌  | 38/50 [46:52<14:41, 73.45s/it]\u001b[A"
          ],
          "name": "stderr"
        },
        {
          "output_type": "stream",
          "text": [
            "Training Loss 35.764647888183596\n"
          ],
          "name": "stdout"
        },
        {
          "output_type": "stream",
          "text": [
            "\n",
            " 78%|███████▊  | 39/50 [48:05<13:28, 73.54s/it]\u001b[A"
          ],
          "name": "stderr"
        },
        {
          "output_type": "stream",
          "text": [
            "Training Loss 35.71228700256348\n"
          ],
          "name": "stdout"
        },
        {
          "output_type": "stream",
          "text": [
            "\n",
            " 80%|████████  | 40/50 [49:19<12:16, 73.67s/it]\u001b[A"
          ],
          "name": "stderr"
        },
        {
          "output_type": "stream",
          "text": [
            "Training Loss 35.403082763671875\n"
          ],
          "name": "stdout"
        },
        {
          "output_type": "stream",
          "text": [
            "\n",
            " 82%|████████▏ | 41/50 [50:33<11:03, 73.71s/it]\u001b[A"
          ],
          "name": "stderr"
        },
        {
          "output_type": "stream",
          "text": [
            "Training Loss 34.96015800476074\n"
          ],
          "name": "stdout"
        },
        {
          "output_type": "stream",
          "text": [
            "\n",
            " 84%|████████▍ | 42/50 [51:47<09:50, 73.77s/it]\u001b[A"
          ],
          "name": "stderr"
        },
        {
          "output_type": "stream",
          "text": [
            "Training Loss 34.76625633239746\n"
          ],
          "name": "stdout"
        },
        {
          "output_type": "stream",
          "text": [
            "\n",
            " 86%|████████▌ | 43/50 [53:01<08:36, 73.74s/it]\u001b[A"
          ],
          "name": "stderr"
        },
        {
          "output_type": "stream",
          "text": [
            "Training Loss 34.39458882141113\n"
          ],
          "name": "stdout"
        },
        {
          "output_type": "stream",
          "text": [
            "\n",
            " 88%|████████▊ | 44/50 [54:14<07:22, 73.69s/it]\u001b[A"
          ],
          "name": "stderr"
        },
        {
          "output_type": "stream",
          "text": [
            "Training Loss 34.215498031616214\n"
          ],
          "name": "stdout"
        },
        {
          "output_type": "stream",
          "text": [
            "\n",
            " 90%|█████████ | 45/50 [55:28<06:08, 73.68s/it]\u001b[A"
          ],
          "name": "stderr"
        },
        {
          "output_type": "stream",
          "text": [
            "Training Loss 34.18305329895019\n"
          ],
          "name": "stdout"
        },
        {
          "output_type": "stream",
          "text": [
            "\n",
            " 92%|█████████▏| 46/50 [56:42<04:55, 73.78s/it]\u001b[A"
          ],
          "name": "stderr"
        },
        {
          "output_type": "stream",
          "text": [
            "Training Loss 34.07585989379883\n"
          ],
          "name": "stdout"
        },
        {
          "output_type": "stream",
          "text": [
            "\n",
            " 94%|█████████▍| 47/50 [57:56<03:41, 73.82s/it]\u001b[A"
          ],
          "name": "stderr"
        },
        {
          "output_type": "stream",
          "text": [
            "Training Loss 33.73281631469727\n"
          ],
          "name": "stdout"
        },
        {
          "output_type": "stream",
          "text": [
            "\n",
            " 96%|█████████▌| 48/50 [59:09<02:27, 73.65s/it]\u001b[A"
          ],
          "name": "stderr"
        },
        {
          "output_type": "stream",
          "text": [
            "Training Loss 33.936209487915036\n"
          ],
          "name": "stdout"
        },
        {
          "output_type": "stream",
          "text": [
            "\n",
            " 98%|█████████▊| 49/50 [1:00:22<01:13, 73.53s/it]\u001b[A"
          ],
          "name": "stderr"
        },
        {
          "output_type": "stream",
          "text": [
            "Training Loss 34.00432250976562\n"
          ],
          "name": "stdout"
        },
        {
          "output_type": "stream",
          "text": [
            "\n",
            "100%|██████████| 50/50 [1:01:38<00:00, 73.97s/it]\n"
          ],
          "name": "stderr"
        },
        {
          "output_type": "execute_result",
          "data": {
            "text/plain": [
              "[338.4824794921875,\n",
              " 277.4431334228516,\n",
              " 238.71518041992186,\n",
              " 219.71446936035156,\n",
              " 201.15605480957032,\n",
              " 185.15772094726563,\n",
              " 166.27452770996095,\n",
              " 145.18265338134765,\n",
              " 125.6198663330078,\n",
              " 104.81550201416016,\n",
              " 88.93587182617188,\n",
              " 77.45057580566406,\n",
              " 68.0871618347168,\n",
              " 61.92765634155273,\n",
              " 58.20695178222656,\n",
              " 55.096061737060545,\n",
              " 52.050148071289065,\n",
              " 49.9868821105957,\n",
              " 47.99882083129883,\n",
              " 46.85792004394531]"
            ]
          },
          "metadata": {
            "tags": []
          },
          "execution_count": 75
        }
      ]
    },
    {
      "cell_type": "code",
      "metadata": {
        "id": "HFea33Dx-KIH",
        "outputId": "8c932196-ee3f-4b48-f4ce-5dbafccd9e49",
        "colab": {
          "base_uri": "https://localhost:8080/",
          "height": 279
        }
      },
      "source": [
        "\n",
        "plt.plot(epoc_norm, training_loss_norm, 'r--')\n",
        "plt.xlabel('Epoch')\n",
        "plt.ylabel('Loss')\n",
        "plt.show()"
      ],
      "execution_count": null,
      "outputs": [
        {
          "output_type": "display_data",
          "data": {
            "image/png": "[encoded data removed]",
            "text/plain": [
              "<Figure size 432x288 with 1 Axes>"
            ]
          },
          "metadata": {
            "tags": [],
            "needs_background": "light"
          }
        }
      ]
    }
  ]
}